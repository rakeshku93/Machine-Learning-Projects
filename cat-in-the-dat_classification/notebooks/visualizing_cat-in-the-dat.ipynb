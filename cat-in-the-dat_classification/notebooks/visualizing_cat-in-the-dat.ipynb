{
 "cells": [
  {
   "cell_type": "code",
   "execution_count": 1,
   "metadata": {},
   "outputs": [],
   "source": [
    "import pandas as pd"
   ]
  },
  {
   "cell_type": "code",
   "execution_count": 2,
   "metadata": {},
   "outputs": [],
   "source": [
    "df = pd.read_csv(\"../inputs/cat-in-the-dat-train-folds.csv\")"
   ]
  },
  {
   "cell_type": "code",
   "execution_count": 3,
   "metadata": {},
   "outputs": [
    {
     "data": {
      "text/plain": [
       "1    120001\n",
       "0    120001\n",
       "2    120000\n",
       "4    119999\n",
       "3    119999\n",
       "Name: kfold, dtype: int64"
      ]
     },
     "execution_count": 3,
     "metadata": {},
     "output_type": "execute_result"
    }
   ],
   "source": [
    "df.kfold.value_counts() ## 60000 dataset--5 folds == 12000 each"
   ]
  },
  {
   "cell_type": "markdown",
   "metadata": {},
   "source": [
    "### checking the target distribution per fold."
   ]
  },
  {
   "cell_type": "code",
   "execution_count": 14,
   "metadata": {},
   "outputs": [
    {
     "name": "stdout",
     "output_type": "stream",
     "text": [
      " For Kfold: 0\n",
      "0    97536\n",
      "1    22465\n",
      "Name: target, dtype: int64\n",
      " For Kfold: 1\n",
      "0    97536\n",
      "1    22465\n",
      "Name: target, dtype: int64\n",
      " For Kfold: 2\n",
      "0    97535\n",
      "1    22465\n",
      "Name: target, dtype: int64\n",
      " For Kfold: 3\n",
      "0    97535\n",
      "1    22464\n",
      "Name: target, dtype: int64\n",
      " For Kfold: 4\n",
      "0    97535\n",
      "1    22464\n",
      "Name: target, dtype: int64\n"
     ]
    }
   ],
   "source": [
    "for kfold_count in range(5):\n",
    "    print(f\" For Kfold: {kfold_count}\")\n",
    "    print(df[df.kfold==kfold_count].target.value_counts())"
   ]
  },
  {
   "cell_type": "code",
   "execution_count": null,
   "metadata": {},
   "outputs": [],
   "source": []
  },
  {
   "cell_type": "code",
   "execution_count": 14,
   "metadata": {},
   "outputs": [],
   "source": [
    "import pandas as pd\n",
    "from sklearn import preprocessing\n",
    "from sklearn import metrics\n",
    "from sklearn import linear_model\n",
    "\n",
    "\n",
    "def run(fold):\n",
    "\n",
    "    # loading the training dataset\n",
    "    df = pd.read_csv(\"../inputs/cat-in-the-dat-train-folds.csv\")\n",
    "\n",
    "    # Selecting all the categorical columns to perform one-hot encoding\n",
    "    features = [\n",
    "        x for x in df.columns if x not in [\"id\", \"target\", \"kfold\"]\n",
    "    ]\n",
    "\n",
    "    # fill all NaN values with NONE\n",
    "    for col in features:\n",
    "        # converting all columns data to strings, it doesn't matter\n",
    "        # as it's categorical dataset < NO Numerical values>\n",
    "        df.loc[:, col] = df[col].astype(str).fillna(\"NONE\")\n",
    "\n",
    "    # get training dataset using folds\n",
    "    df_train = df[df.kfold != fold].reset_index(drop=True)\n",
    "\n",
    "    # get validation dataset using folds\n",
    "    df_valid = df[df.kfold == fold].reset_index(drop=True)\n",
    "\n",
    "    ohe = preprocessing.OneHotEncoder()\n",
    "\n",
    "    # concatenate training & validation dataset for selected columns\n",
    "    full_data = pd.concat(\n",
    "        [df_train[features], df_valid[features]],\n",
    "        axis=0\n",
    "    )\n",
    "    \n",
    "    ohe.fit(full_data)\n",
    "\n",
    "    x_train = ohe.transform(df_train[features])\n",
    "    print(type(x_train))\n",
    "\n",
    "    x_valid = ohe.transform(df_valid[features])\n",
    "\n",
    "    # initialize Logistic Regression model\n",
    "    model = linear_model.LogisticRegression()\n",
    "    \n",
    "    # fit the model on training dataset\n",
    "    model.fit(x_train, df_train.target.values)\n",
    "    \n",
    "    valid_preds = model.predict_proba(x_valid)[:,1]\n",
    "    \n",
    "    auc = metrics.roc_auc_score(df_valid.target.values, valid_preds)\n",
    "    \n",
    "    print(auc)"
   ]
  },
  {
   "cell_type": "code",
   "execution_count": 15,
   "metadata": {},
   "outputs": [
    {
     "name": "stdout",
     "output_type": "stream",
     "text": [
      "<class 'scipy.sparse.csr.csr_matrix'>\n"
     ]
    },
    {
     "name": "stderr",
     "output_type": "stream",
     "text": [
      "C:\\Users\\rakes\\anaconda3\\lib\\site-packages\\sklearn\\linear_model\\logistic.py:432: FutureWarning: Default solver will be changed to 'lbfgs' in 0.22. Specify a solver to silence this warning.\n",
      "  FutureWarning)\n"
     ]
    },
    {
     "name": "stdout",
     "output_type": "stream",
     "text": [
      "0.7859276553809572\n"
     ]
    }
   ],
   "source": [
    "run(1)"
   ]
  },
  {
   "cell_type": "code",
   "execution_count": null,
   "metadata": {},
   "outputs": [],
   "source": []
  }
 ],
 "metadata": {
  "kernelspec": {
   "display_name": "Python 3",
   "language": "python",
   "name": "python3"
  },
  "language_info": {
   "codemirror_mode": {
    "name": "ipython",
    "version": 3
   },
   "file_extension": ".py",
   "mimetype": "text/x-python",
   "name": "python",
   "nbconvert_exporter": "python",
   "pygments_lexer": "ipython3",
   "version": "3.6.10"
  }
 },
 "nbformat": 4,
 "nbformat_minor": 4
}
